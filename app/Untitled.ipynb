{
 "cells": [
  {
   "cell_type": "code",
   "execution_count": 1,
   "id": "c911df34",
   "metadata": {},
   "outputs": [
    {
     "ename": "ModuleNotFoundError",
     "evalue": "No module named 'mediapipe'",
     "output_type": "error",
     "traceback": [
      "\u001b[1;31m---------------------------------------------------------------------------\u001b[0m",
      "\u001b[1;31mModuleNotFoundError\u001b[0m                       Traceback (most recent call last)",
      "Cell \u001b[1;32mIn[1], line 1\u001b[0m\n\u001b[1;32m----> 1\u001b[0m \u001b[38;5;28;01mimport\u001b[39;00m \u001b[38;5;21;01mmediapipe\u001b[39;00m \u001b[38;5;28;01mas\u001b[39;00m \u001b[38;5;21;01mmp\u001b[39;00m\n\u001b[0;32m      2\u001b[0m \u001b[38;5;28;01mimport\u001b[39;00m \u001b[38;5;21;01mcv2\u001b[39;00m\n\u001b[0;32m      3\u001b[0m \u001b[38;5;28;01mimport\u001b[39;00m \u001b[38;5;21;01mos\u001b[39;00m\n",
      "\u001b[1;31mModuleNotFoundError\u001b[0m: No module named 'mediapipe'"
     ]
    }
   ],
   "source": [
    "import mediapipe as mp\n",
    "import cv2\n",
    "import os\n",
    "import csv\n",
    "    \n",
    "mp_holistic = mp.solutions.holistic\n",
    "holistic = mp_holistic.Holistic(static_image_mode=True, model_complexity=2)\n",
    "\n",
    "data = []\n",
    "for p in mp_holistic.PoseLandmark:\n",
    "        x = str(p)[13:]\n",
    "        data.append(x + \"_x\")\n",
    "        data.append(x + \"_y\")\n",
    "        data.append(x + \"_z\")\n",
    "        data.append(x + \"_visibility\")\n",
    "data.append(\"NAME_OF_THE_ASANA\")\n",
    "\n",
    "path = 'app/DATASET/TRAIN'\n",
    "\n",
    "landmarks = []\n",
    "\n",
    "for asana in os.listdir(path):\n",
    "    for image in os.listdir(os.path.join(path,asana)):\n",
    "        image_path = os.path.join(path,asana,image)\n",
    "        try:\n",
    "            img = cv2.imread(image_path)\n",
    "            imgRGB = cv2.cvtColor(img,cv2.COLOR_BGR2RGB)\n",
    "            results = holistic.process(imgRGB)\n",
    "            if results.pose_landmarks:\n",
    "                new = []\n",
    "                for landmark in results.pose_landmarks.landmark:\n",
    "                    new.append(landmark.x)\n",
    "                    new.append(landmark.y)\n",
    "                    new.append(landmark.z)\n",
    "                    new.append(landmark.visibility)\n",
    "                new.append(asana)\n",
    "                landmarks.append(new)\n",
    "        except Exception as e:\n",
    "            print(e)\n",
    "\n",
    "file = open(\"app/Asana.csv\",\"w\")\n",
    "writer = csv.writer(file)\n",
    "writer.writerow(data)\n",
    "writer.writerows(landmarks)\n",
    "file.close()\n"
   ]
  },
  {
   "cell_type": "code",
   "execution_count": null,
   "id": "01eeab65",
   "metadata": {},
   "outputs": [],
   "source": []
  }
 ],
 "metadata": {
  "kernelspec": {
   "display_name": "Python 3 (ipykernel)",
   "language": "python",
   "name": "python3"
  },
  "language_info": {
   "codemirror_mode": {
    "name": "ipython",
    "version": 3
   },
   "file_extension": ".py",
   "mimetype": "text/x-python",
   "name": "python",
   "nbconvert_exporter": "python",
   "pygments_lexer": "ipython3",
   "version": "3.11.5"
  }
 },
 "nbformat": 4,
 "nbformat_minor": 5
}
